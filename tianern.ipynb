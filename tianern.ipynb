{
  "nbformat": 4,
  "nbformat_minor": 0,
  "metadata": {
    "colab": {
      "provenance": [],
      "toc_visible": true,
      "authorship_tag": "ABX9TyO3j7TvVy7ZGs54smAEVUUm",
      "include_colab_link": true
    },
    "kernelspec": {
      "name": "python3",
      "display_name": "Python 3"
    },
    "language_info": {
      "name": "python"
    }
  },
  "cells": [
    {
      "cell_type": "markdown",
      "metadata": {
        "id": "view-in-github",
        "colab_type": "text"
      },
      "source": [
        "<a href=\"https://colab.research.google.com/github/zhenyuen/starthack-2023-cincai/blob/tianern/tianern.ipynb\" target=\"_parent\"><img src=\"https://colab.research.google.com/assets/colab-badge.svg\" alt=\"Open In Colab\"/></a>"
      ]
    },
    {
      "cell_type": "code",
      "execution_count": null,
      "metadata": {
        "id": "A0ZLjRZFjeAi"
      },
      "outputs": [],
      "source": [
        "url_accounts = \"https://github.com/zhenyuen/starthack-2023-cincai/blob/tianern/resources/accounts.csv\"\n",
        "url_alliance_ff = \"https://github.com/zhenyuen/starthack-2023-cincai/blob/tianern/resources/alliance_ff.csv\"\n",
        "url_alliance_membership = \"https://github.com/zhenyuen/starthack-2023-cincai/blob/tianern/resources/alliance_membership.csv\"\n",
        "url_chat_1 = \"https://github.com/zhenyuen/starthack-2023-cincai/blob/tianern/resources/chat_messages_1.csv\"\n",
        "url_chat_2 = \"https://github.com/zhenyuen/starthack-2023-cincai/blob/tianern/resources/chat_messages_2.csv\"\n",
        "\n"
      ]
    }
  ]
}